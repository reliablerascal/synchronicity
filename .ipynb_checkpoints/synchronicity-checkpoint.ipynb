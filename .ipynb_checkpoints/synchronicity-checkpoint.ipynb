{
 "cells": [
  {
   "cell_type": "markdown",
   "id": "a9415df0",
   "metadata": {},
   "source": [
    "<h1>Intro</h1>\n",
    "On June 17, 1983 The Police released \"Synchronicity,\" an album which twice interrupted Michael Jackson's \"Thriller\" at the top of the Billboard charts. Sychronicity was my favorite album when it was released, and remains one of my favorites today.\n",
    "<p>\n",
    "This project looks at the staying power of this 40-year-old record. Minimally, I'll look at record sales. But I hope to uncover insight of deeper engagement which might predict longer-term durability: how often are lyrics discussed, how many musicians trying to learn these songs?"
   ]
  },
  {
   "cell_type": "markdown",
   "id": "fbe58417",
   "metadata": {},
   "source": [
    "<h1>Questions</h1>\n",
    "<ol>\n",
    "<li>Which tracks have shown users discussing lyrics? How has this changed over time?\n",
    "<li>Which songs have been covered? How has this changed over time?\n",
    "    <li>How have record sales/followers for Synchronicity compared with more recent albums by former members of The Police?\n",
    "</ol>"
   ]
  },
  {
   "cell_type": "markdown",
   "id": "8a3c5e21",
   "metadata": {},
   "source": [
    "<h1>Lyric Comments- Web Scraping Songmeanings</h1>"
   ]
  },
  {
   "cell_type": "code",
   "execution_count": 3,
   "id": "5f70a49a",
   "metadata": {},
   "outputs": [],
   "source": [
    "import requests\n",
    "from bs4 import BeautifulSoup\n",
    "import pandas as pd"
   ]
  },
  {
   "cell_type": "code",
   "execution_count": 6,
   "id": "d3a1152e",
   "metadata": {},
   "outputs": [],
   "source": [
    "#grab the page for Synchronicity by the Police\n",
    "url = \"https://songmeanings.com/albums/view/tracks/1816/\"\n",
    "http_response = requests.get(url)\n",
    "html = http_response.text\n",
    "soup = BeautifulSoup(html)"
   ]
  },
  {
   "cell_type": "markdown",
   "id": "6997e41c",
   "metadata": {},
   "source": [
    "<h3>select the list of songs, then create a list of corresponding URLs</h3>"
   ]
  },
  {
   "cell_type": "code",
   "execution_count": 25,
   "id": "3179922d",
   "metadata": {},
   "outputs": [
    {
     "data": {
      "text/plain": [
       "[<a class=\"\" href=\"https://songmeanings.com/songs/view/5935/\" style=\"\" title=\"Synchronicity I\">Synchronicity I</a>,\n",
       " <a class=\"\" href=\"https://songmeanings.com/songs/view/5943/\" style=\"\" title=\"Walking In Your Footsteps\">Walking In Your Footsteps</a>,\n",
       " <a class=\"\" href=\"https://songmeanings.com/songs/view/5919/\" style=\"\" title=\"O My God\">O My God</a>,\n",
       " <a class=\"\" href=\"https://songmeanings.com/songs/view/5914/\" style=\"\" title=\"Mother\">Mother</a>,\n",
       " <a class=\"\" href=\"https://songmeanings.com/songs/view/5913/\" style=\"\" title=\"Miss Gradenko\">Miss Gradenko</a>,\n",
       " <a class=\"\" href=\"https://songmeanings.com/songs/view/5936/\" style=\"\" title=\"Synchronicity II\">Synchronicity II</a>,\n",
       " <a class=\"\" href=\"https://songmeanings.com/songs/view/5900/\" style=\"\" title=\"Every Breath You Take\">Every Breath You Take</a>,\n",
       " <a class=\"\" href=\"https://songmeanings.com/songs/view/5908/\" style=\"\" title=\"King Of Pain\">King Of Pain</a>,\n",
       " <a class=\"\" href=\"https://songmeanings.com/songs/view/5946/\" style=\"\" title=\"Wrapped Around Your Finger\">Wrapped Around Your Finger</a>,\n",
       " <a class=\"\" href=\"https://songmeanings.com/songs/view/5937/\" style=\"\" title=\"Tea In The Sahara\">Tea In The Sahara</a>,\n",
       " <a class=\"\" href=\"https://songmeanings.com/songs/view/5915/\" style=\"\" title=\"Murder By Numbers\">Murder By Numbers</a>]"
      ]
     },
     "execution_count": 25,
     "metadata": {},
     "output_type": "execute_result"
    }
   ],
   "source": [
    "#get list of anchor tags nested in tags with class=\"item\" (i.e. one for each song)\n",
    "list_links = soup.select(\".item a\")\n",
    "list_links"
   ]
  },
  {
   "cell_type": "code",
   "execution_count": 101,
   "id": "5be9415a",
   "metadata": {},
   "outputs": [
    {
     "data": {
      "text/plain": [
       "['https://songmeanings.com/songs/view/5935/',\n",
       " 'https://songmeanings.com/songs/view/5943/',\n",
       " 'https://songmeanings.com/songs/view/5919/',\n",
       " 'https://songmeanings.com/songs/view/5914/',\n",
       " 'https://songmeanings.com/songs/view/5913/',\n",
       " 'https://songmeanings.com/songs/view/5936/',\n",
       " 'https://songmeanings.com/songs/view/5900/',\n",
       " 'https://songmeanings.com/songs/view/5908/',\n",
       " 'https://songmeanings.com/songs/view/5946/',\n",
       " 'https://songmeanings.com/songs/view/5937/',\n",
       " 'https://songmeanings.com/songs/view/5915/']"
      ]
     },
     "execution_count": 101,
     "metadata": {},
     "output_type": "execute_result"
    }
   ],
   "source": [
    "#create a list of URLs from this\n",
    "list_urls = []\n",
    "for link in list_links:\n",
    "    list_urls.append(link[\"href\"])\n",
    "list_urls"
   ]
  },
  {
   "cell_type": "markdown",
   "id": "eee1cfae",
   "metadata": {},
   "source": [
    "<h3>gather info about each song</h3>\n",
    "look at # of comments per year<br>\n",
    "first iteration, just delve into one song\n",
    "second iteration, step through subsequent pages of comments\n",
    "third iteration, loop through all songs"
   ]
  },
  {
   "cell_type": "code",
   "execution_count": 107,
   "id": "f0a7735c",
   "metadata": {},
   "outputs": [],
   "source": [
    "#look at just track #5 for now. This should have a lot of comments\n",
    "#https://songmeanings.com/songs/view/5936/\n",
    "url = list_urls[5]\n",
    "http_response = requests.get(url)\n",
    "http_response\n",
    "html = http_response.text\n",
    "soup_song = BeautifulSoup(html)"
   ]
  },
  {
   "cell_type": "code",
   "execution_count": 108,
   "id": "2e268af4",
   "metadata": {},
   "outputs": [
    {
     "data": {
      "text/plain": [
       "'Synchronicity II'"
      ]
     },
     "execution_count": 108,
     "metadata": {},
     "output_type": "execute_result"
    }
   ],
   "source": [
    "#get song name\n",
    "songname = soup_song.select(\".text-holder a\")[0][\"title\"]\n",
    "songname"
   ]
  },
  {
   "cell_type": "code",
   "execution_count": 116,
   "id": "97905183",
   "metadata": {},
   "outputs": [
    {
     "data": {
      "text/plain": [
       "[<div class=\"holder sign-box\" id=\"pagination\" style=\"text-align: center;\">\n",
       " \t\t \n",
       " \t</div>]"
      ]
     },
     "execution_count": 116,
     "metadata": {},
     "output_type": "execute_result"
    }
   ],
   "source": [
    "#get number of pages\n",
    "soup_song.select(\"#pagination\") #this only gets the div tag, but not what's inside of it\n",
    "#soup_song.select(\"a\")\n",
    "#soup_song.select(\".sign-box\")\n",
    "#soup_song.select(\"#submitted-by\")"
   ]
  },
  {
   "cell_type": "code",
   "execution_count": 31,
   "id": "c3e26c8e",
   "metadata": {},
   "outputs": [
    {
     "data": {
      "text/plain": [
       "[<em class=\"date\">on September 22, 2006</em>,\n",
       " <em class=\"date\">on October 18, 2011</em>,\n",
       " <em class=\"date\">on September 18, 2006</em>,\n",
       " <em class=\"date\">on September 28, 2006</em>,\n",
       " <em class=\"date\">on March 08, 2018</em>,\n",
       " <em class=\"date\">on April 12, 2014</em>,\n",
       " <em class=\"date\">on July 03, 2005</em>,\n",
       " <em class=\"date\">on March 14, 2006</em>,\n",
       " <em class=\"date\">on October 31, 2008</em>,\n",
       " <em class=\"date\">on August 29, 2009</em>,\n",
       " <em class=\"date\">on December 31, 2011</em>]"
      ]
     },
     "execution_count": 31,
     "metadata": {},
     "output_type": "execute_result"
    }
   ],
   "source": [
    "#get the list of all comments\n",
    "list_comment_dates = soup.select(\"em\")\n",
    "list_comment_dates"
   ]
  },
  {
   "cell_type": "code",
   "execution_count": 52,
   "id": "b05d76e6",
   "metadata": {},
   "outputs": [
    {
     "data": {
      "text/plain": [
       "[2006, 2011, 2006, 2006, 2018, 2014, 2005, 2006, 2008, 2009, 2011]"
      ]
     },
     "execution_count": 52,
     "metadata": {},
     "output_type": "execute_result"
    }
   ],
   "source": [
    "#grab just the last 4 characters of the text- this is the year of the comment\n",
    "comment_years = []\n",
    "for comment in list_comment_dates:\n",
    "    comment_years.append(int(comment.text[-4:]))\n",
    "comment_years"
   ]
  },
  {
   "cell_type": "markdown",
   "id": "47396f86",
   "metadata": {},
   "source": [
    "<h3>next steps</h3>\n",
    "1) iterate through pages to continue count- this is just page 1<br>\n",
    "2) look at replies"
   ]
  },
  {
   "cell_type": "code",
   "execution_count": null,
   "id": "ca94f7a4",
   "metadata": {},
   "outputs": [],
   "source": []
  }
 ],
 "metadata": {
  "kernelspec": {
   "display_name": "Python 3 (ipykernel)",
   "language": "python",
   "name": "python3"
  },
  "language_info": {
   "codemirror_mode": {
    "name": "ipython",
    "version": 3
   },
   "file_extension": ".py",
   "mimetype": "text/x-python",
   "name": "python",
   "nbconvert_exporter": "python",
   "pygments_lexer": "ipython3",
   "version": "3.10.6"
  }
 },
 "nbformat": 4,
 "nbformat_minor": 5
}
