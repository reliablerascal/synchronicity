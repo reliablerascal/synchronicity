{
 "cells": [
  {
   "cell_type": "markdown",
   "id": "24484930",
   "metadata": {},
   "source": [
    "<h1>Intro</h1>\n",
    "On June 17, 1983 The Police released \"Synchronicity,\" an album which twice interrupted Michael Jackson's \"Thriller\" at the top of the Billboard charts. Sychronicity was my favorite album when it was released, and remains one of my favorites today.\n",
    "<p>\n",
    "This project looks at the staying power of this 40-year-old record. Minimally, I'll look at record sales. But I hope to uncover insight of deeper engagement which might predict longer-term durability: how often are lyrics discussed, how many musicians trying to learn these songs?"
   ]
  },
  {
   "cell_type": "markdown",
   "id": "f850f289",
   "metadata": {},
   "source": [
    "<h1>Questions</h1>\n",
    "<h3>Record Sales (Minimum Story)</h3>\n",
    "<ol>\n",
    "How have record sales compared to Thriller over the years?\n",
    "How have record sales compared with\n",
    "</ol>\n",
    "    \n",
    "<h3>Engagement"
   ]
  },
  {
   "cell_type": "markdown",
   "id": "095c8919",
   "metadata": {},
   "source": [
    "<h1>My learning goals</h1>\n",
    "link to ReadMe"
   ]
  },
  {
   "cell_type": "code",
   "execution_count": null,
   "id": "218f6bec",
   "metadata": {},
   "outputs": [],
   "source": []
  }
 ],
 "metadata": {
  "kernelspec": {
   "display_name": "Python 3 (ipykernel)",
   "language": "python",
   "name": "python3"
  },
  "language_info": {
   "codemirror_mode": {
    "name": "ipython",
    "version": 3
   },
   "file_extension": ".py",
   "mimetype": "text/x-python",
   "name": "python",
   "nbconvert_exporter": "python",
   "pygments_lexer": "ipython3",
   "version": "3.10.6"
  }
 },
 "nbformat": 4,
 "nbformat_minor": 5
}
